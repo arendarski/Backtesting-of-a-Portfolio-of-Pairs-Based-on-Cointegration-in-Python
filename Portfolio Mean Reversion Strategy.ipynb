{
 "cells": [
  {
   "cell_type": "markdown",
   "metadata": {},
   "source": [
    "\n",
    "### Selection and Backtesting of a Portfolio of Pairs Based on Cointegration in Python\n",
    "Author: Piotr Arendarski, Ph.D, Anglia Ruskin University\n",
    "*****\n",
    "#### A brief outline of what this script does:\n",
    "1. Select universe of stocks (index), get tickers and download historical data\n",
    "2. Select pairs based on Engle-Granger cointegration test\n",
    "3. Backtest portfolio of pairs using zscore method\n",
    "4. Check current zScore of cointegrated pairs\n",
    "5. Parameters optimisation\n",
    "\n",
    "The traditional idea of a mean reverting \"pairs trade\" is to simultaneously long and short two separate assets sharing underlying factors that affect their movements. An example from the equities world might be to long Coca Cola (NYSE:KO) and short PEPSI (NYSE:PEP).\n",
    "\n",
    "In the previous script [https://github.com/arendarski/Simple-Mean-Reversion-Strategy-in-Python] we presented a simple algorithm in which a user inputs a trading pair, the script performs a set of unit root tests for mean reversion and subsequently backtest the selected pair.\n",
    "\n",
    "In this post, I am going to complicate things a little bit. Let us build an algorithm that will accept a list of stocks and then select pairs that are likely to exhibit mean reversion properties. Finally, the script will perform backtest.\n",
    "\n",
    "We start as usual from importing relevant modules."
   ]
  },
  {
   "cell_type": "code",
   "execution_count": 36,
   "metadata": {},
   "outputs": [],
   "source": [
    "import pandas as pd\n",
    "import numpy as np\n",
    "import pandas_datareader as pdr\n",
    "import itertools\n",
    "from datetime import datetime, timedelta, date\n",
    "import statsmodels.api as sm\n",
    "from statsmodels.regression.rolling import RollingOLS\n",
    "from arch.unitroot import engle_granger\n",
    "import matplotlib.pyplot as plt\n",
    "import seaborn as sns\n",
    "sns.set_style('darkgrid')\n",
    "import warnings\n",
    "from bs4 import BeautifulSoup\n",
    "import requests, requests_html\n",
    "warnings.simplefilter('ignore')"
   ]
  },
  {
   "cell_type": "markdown",
   "metadata": {},
   "source": [
    "### Part 1: Selecting universe, getting tickers and downloading historical data\n",
    "\n",
    "Then we need to select a universe of stocks we want to test. Here below I created a simple script which downloads tickers of selected index available at stooq.com.\n",
    "\n",
    "We selected Dow Jones Industrial Average as our universe of stocks.\n",
    "\n",
    "The function to get tickers works only for stooq.com website. Please check what is the symbol of your desired index and check if the index has constituents. Then it is important to select either yahoo or stooq as the source for downloading historical data. This will determine the format of tickers. The stooq's tickers have the format of 'XX.US' for US stocks, but for German stocks it is XX.DE, yahoo's tickers have the format of 'XX' for US stocks.\n",
    "\n",
    "Please take a note that stooq.com and yahoo.finance.com has a limit of requests, so you may see an error due to too many requests if you select index with more than 100 constituents.\n",
    "\n",
    "Finally, the next step is to download historical data for the tickers we selected. You may use it either yahoo or stooq. \n",
    "For more exotic stocks (e.g. Czech Republic or Poland), please check what is the symbol. The script may not work for some exotic symbols if you use yahoo.  have not tested all possible indices."
   ]
  },
  {
   "cell_type": "code",
   "execution_count": 50,
   "metadata": {
    "code_folding": []
   },
   "outputs": [],
   "source": [
    "# SELECTS PERIOD, INDEX and HISTORICAL DATA SOURCE \n",
    "index = '^dji' # or e.g. ^spx, ^dax, ^ndx\n",
    "data_source = 'stooq' # select: 'yahoo' or'stooq'\n",
    "start_date = '2017/01/01'\n",
    "end_date = date.today() # Please do not change this, otherwise current Z-score are calculated incorrectly\n",
    "\n",
    "# GETTING TICKERS from stooq.com\n",
    "def getTickers(index = index, data_source = data_source):\n",
    "# info about the function: https://github.com/parendarski/getTickers        \n",
    "    tickers = []\n",
    "    url = f'https://stooq.pl/q/i/?s={index}&i'\n",
    "    print(f'Getting tickers from page number: 1')\n",
    "    data = pd.read_html(url) \n",
    "    # clean_table(data)\n",
    "    data = data[0].iloc[1:]\n",
    "    new_header = data.iloc[0] #grab the first row for the header\n",
    "    data = data[3:] #take the data less the header row\n",
    "    data.columns = new_header #set the header row as the df header\n",
    "\n",
    "    # iterates through the column with tickers at the FIRST PAGE\n",
    "    for ticker in data.iloc[:,0]:\n",
    "        if data_source == 'yahoo':\n",
    "            if str('nan') not in str(ticker):\n",
    "                tickers.append(ticker.split('.')[0])\n",
    "        else:\n",
    "            if str('nan') not in str(ticker):\n",
    "                tickers.append(ticker) \n",
    "    print(f'Tickers collected so far: {len(tickers)}')\n",
    "    print('---')\n",
    "    \n",
    "    # iterates through the column with tickers for the NEXT PAGES, break the loop when the last page with tickers is found \n",
    "    for page in range(2, 100, 1):        \n",
    "        url = f'https://stooq.pl/q/i/?s={index}&l={page}&i'\n",
    "        print(f'Getting tickers from page number: {page}')\n",
    "        data = pd.read_html(url)\n",
    "        data = data[0].iloc[1:]\n",
    "        new_header = data.iloc[0] \n",
    "        data = data[3:] \n",
    "        data.columns = new_header\n",
    "        for ticker in data.iloc[:,0]:\n",
    "            if data_source == 'yahoo':\n",
    "                tickers_len = len(tickers)\n",
    "                if str('nan') not in str(ticker):\n",
    "                    tickers.append(ticker.split('.')[0])\n",
    "            else:\n",
    "                if str('nan') not in str(ticker):\n",
    "                    tickers.append(ticker)\n",
    "        print(f'Tickers collected so far: {len(tickers)}')\n",
    "        print('---')\n",
    "        if len(data.iloc[:,0]) == 2:\n",
    "            break\n",
    "    print(f'Total tickers collected: {len(tickers)}')  \n",
    "    print(f'Tickers collected: {tickers}')\n",
    "    return tickers    \n",
    "\n",
    "symbList = getTickers(index = index, data_source = data_source)\n",
    "\n",
    "# DOWNLOADS HISTORICAL DATA from yahoo or stooq.com into DATAFRAME \n",
    "if data_source == 'yahoo': #downloads data from yahoo\n",
    "    # Na's are not dropped, this means that some stocks may have nan's and they will not be used for the further analysis\n",
    "    try:\n",
    "        df = pdr.get_data_yahoo(symbList, start = start_date, end = end_date)['Adj Close']#.dropna()\n",
    "    except:\n",
    "        print(f'Can not get data ...')\n",
    "else:\n",
    "    start_date = start_date.split('/')\n",
    "    start_date = ''.join(start_date) \n",
    "    end_date = str(end_date)\n",
    "    end_date = end_date.split('-')\n",
    "    end_date = ''.join(end_date) \n",
    "\n",
    "    def getStooqData(symbol, start, end, freq):\n",
    "        url = f'https://stooq.com/q/d/l/?s={symbol}&d1={start}&d2={end}&i={freq}'\n",
    "        df = pd.read_csv(url, index_col='Date')\n",
    "        return df\n",
    "    print('...')\n",
    "    symb_prices = []\n",
    "    for symbol in symbList:\n",
    "        print(f'{symbol}, {start_date}, {end_date}')\n",
    "        data = getStooqData(symbol, start_date, end_date, 'd')['Close']\n",
    "        \n",
    "        print(f'Getting data for {symbol}')\n",
    "        data.name = symbol\n",
    "        symb_prices.append(data)\n",
    "\n",
    "    df = pd.concat(symb_prices, axis = 1)  \n",
    "    df.fillna(method='ffill', inplace=True)"
   ]
  },
  {
   "cell_type": "markdown",
   "metadata": {},
   "source": [
    "Now need to split the sample into training and testing. The training sample will be used to select pair of assets sharing underlying factors that affect their movements. The testing sample will be used to backtest the portfolio consists of all the selected pairs."
   ]
  },
  {
   "cell_type": "code",
   "execution_count": 38,
   "metadata": {
    "code_folding": []
   },
   "outputs": [],
   "source": [
    "# SPLITS DATA INTO TRANING and TESTING SAMPLE\n",
    "split_train = 0.5  \n",
    "train_sample = int(split_train * len(df))"
   ]
  },
  {
   "cell_type": "markdown",
   "metadata": {},
   "source": [
    "### Part 2: Selecting pairs based on Engle-Granger cointegration test"
   ]
  },
  {
   "cell_type": "code",
   "execution_count": 49,
   "metadata": {
    "code_folding": []
   },
   "outputs": [],
   "source": [
    "# creates combinations of all tickers within the selected index\n",
    "symbol_pairs = list(itertools.combinations(symbList, 2))\n",
    "significance_level = 0.05\n",
    "coint_pairs = []\n",
    "\n",
    "# selects pairs based on Engle-Granger cointegration test \n",
    "def find_cointegrated_pairs(dataframe):\n",
    "    for y, x in symbol_pairs:\n",
    "            try:\n",
    "                eg_test = engle_granger(dataframe[y], dataframe[x], trend=\"n\")\n",
    "                print(f'{y} - {x} : p-value = {eg_test.pvalue}')\n",
    "                if eg_test.pvalue < significance_level:\n",
    "                    coint_pairs.append((y, x, eg_test.pvalue))\n",
    "            except:\n",
    "                print(f'Oops! Nans detected. The pair: {x} - {y} will be skipped.')\n",
    "    return coint_pairs\n",
    "\n",
    "find_cointegrated_pairs(df[0:train_sample])"
   ]
  },
  {
   "cell_type": "code",
   "execution_count": 40,
   "metadata": {
    "code_folding": []
   },
   "outputs": [
    {
     "name": "stdout",
     "output_type": "stream",
     "text": [
      "All the selected pairs with p-value lower or equal: 0.05 are: \n",
      "Pair : AAPL.US - HD.US, pvalue: 0.03603298641676234\n",
      "Pair : AAPL.US - NKE.US, pvalue: 0.04185354348661106\n",
      "Pair : AAPL.US - PFE.US, pvalue: 0.02566922437694023\n",
      "Pair : AAPL.US - VZ.US, pvalue: 0.040223030996817816\n",
      "Pair : AXP.US - VZ.US, pvalue: 0.02197424644088992\n",
      "Pair : CVX.US - MCD.US, pvalue: 0.03204509389482579\n",
      "Pair : DIS.US - XOM.US, pvalue: 0.027057252798681344\n",
      "Pair : HD.US - VZ.US, pvalue: 0.047116385147751356\n",
      "Pair : JNJ.US - KO.US, pvalue: 0.01820634294340254\n",
      "Pair : JNJ.US - XOM.US, pvalue: 0.013712611276524862\n",
      "Pair : KO.US - XOM.US, pvalue: 0.006773370251353295\n",
      "Pair : MCD.US - VZ.US, pvalue: 0.03801749611930025\n",
      "Pair : MCD.US - XOM.US, pvalue: 0.011393020411013774\n",
      "Pair : MSFT.US - UNH.US, pvalue: 0.033215881015626995\n",
      "Pair : PFE.US - VZ.US, pvalue: 0.03295500242903921\n",
      "Pair : RTX.US - VZ.US, pvalue: 0.013140517448162694\n",
      "Pair : UNH.US - V.US, pvalue: 3.628897574496797e-05\n",
      "Pair : VZ.US - WMT.US, pvalue: 0.04819723310819516\n"
     ]
    }
   ],
   "source": [
    "# displays the selected pairs\n",
    "print(f'All the selected pairs with p-value lower or equal: {significance_level} are: ')\n",
    "for c, pair in enumerate(coint_pairs, 1):\n",
    "    print(f'Pair : {pair[0]} - {pair[1]}, pvalue: {pair[2]}')"
   ]
  },
  {
   "cell_type": "markdown",
   "metadata": {},
   "source": [
    "This helper script here below selects top x cointegrated pairs under assumption that you like to select large universe (e.g. S&P500) and restrict number of pairs based on p-value. If you like to use it, please take a note that the list of top pairs is stored in 'top_coint_pairs_list' object. This is different list that is used throughout the rest of the script."
   ]
  },
  {
   "cell_type": "code",
   "execution_count": 41,
   "metadata": {
    "code_folding": []
   },
   "outputs": [],
   "source": [
    "# # HELPER SCRIPT: selects only top x cointegrated pairs if you want to restrict number of pairs\n",
    "\n",
    "# pvalue_list_sorted = coint_pairs\n",
    "# pvalue_list_sorted = sorted(top_coint_pairs, key=lambda x: abs(x[2]),reverse = False) \n",
    "# top_pairs = 50\n",
    "# top_coint_pairs_list = []\n",
    "\n",
    "# for c, pair in enumerate(pvalue_list_sorted, 1):\n",
    "#     if len(top_coint_pairs_list) < top_pairs:\n",
    "#         top_coint_pairs_list.append((pair[0], pair[1], pair[2]))\n",
    "#         print(f'{c}: |{pair[0]: <4}| - |{pair[1]: <4}| p-value: {round(pair[2],3)}')\n",
    "#     else:\n",
    "#         break"
   ]
  },
  {
   "cell_type": "markdown",
   "metadata": {},
   "source": [
    "### Part 3: Bactesting portfolio of pairs"
   ]
  },
  {
   "cell_type": "markdown",
   "metadata": {},
   "source": [
    "Now it is time to take all the pairs of cointegrated assets and check we could make some money during the testing period.\n",
    "\n",
    "We will utilise very popular mean reversion strategy that assumes we simply buy low and sell high based on the ratio called zScore. There are two alternatives of this strategy. Please check our previous post [LINK] for more details."
   ]
  },
  {
   "cell_type": "code",
   "execution_count": 42,
   "metadata": {
    "code_folding": []
   },
   "outputs": [],
   "source": [
    "def backtest(df, sym1, sym2, strategy, roll_beta_window, zscore_window, entryZscore, exitZscore ):\n",
    "    \n",
    "#     \"\"\"BACKTESTING SELECTED PAIR.....\n",
    "\n",
    "#     Parameters\n",
    "#     ----------\n",
    "#     dataframe : pandas dataframe\n",
    "#         All assets close prices\n",
    "#     sym1 : string\n",
    "#         The symbol of asset one\n",
    "#     sym2 : string\n",
    "#         The symbol of asset two\n",
    "#     strategy : int\n",
    "#         Trading strategy selection {1,2}.\n",
    "#     roll_beta_window : integer \n",
    "#     zscore_window : integer\n",
    "#     entryZscore : float\n",
    "#     exitZscore : float\n",
    "\n",
    "#     Returns\n",
    "#     -------\n",
    "#     dataframe[f'Cum_rets: {sym1} {sym2}'], CAGR, sharpe, num_days_in_market : pd.series\n",
    "#         Time series of cumulative returns for selected pair\n",
    "#     comp_ann_return_net, annualised_sharpe_net , num_days_in_the_market : float\n",
    "#         Compound annual growth rate (CAGR) for selected pair\n",
    "#    annualised_sharpe_net , num_days_in_the_market : float\n",
    "#         Sharpe Ratio for selected pair\n",
    "#    num_days_in_the_market : integer\n",
    "#         Number of days the pair is 'in the market'\n",
    "#     \"\"\"\n",
    "    y = df[sym1]\n",
    "    x = df[sym2]\n",
    "\n",
    "    # finds intersection between two series and make sure DataFrames are the same length\n",
    "    intersect = y.index.intersection(x.index)\n",
    "    y = y.loc[intersect]\n",
    "    x = x.loc[intersect]\n",
    "\n",
    "    # creates a dataframe using Adj. Close prices from both series\n",
    "    dataframe = pd.DataFrame(index=y.index).dropna()\n",
    "    \n",
    "    dataframe['%s_close' % sym1.lower()] = y\n",
    "    dataframe['%s_close' % sym2.lower()] = x   \n",
    "    \n",
    "    # calculates rolling OLS this allows to dynamically adjust weights without lookahead bias\n",
    "    roll_fit = RollingOLS(y, x, window=roll_beta_window).fit()\n",
    "    dataframe['hr'] = -roll_fit.params\n",
    "    dataframe['test_spread'] = y + (x * dataframe.hr)\n",
    "    \n",
    "    # calculates Z-scores\n",
    "    meanSpread = dataframe['test_spread'].rolling(window=int(zscore_window)).mean()\n",
    "    stdSpread = dataframe['test_spread'].rolling(window=int(zscore_window)).std()\n",
    "    dataframe['zScore'] = (dataframe['test_spread']- meanSpread) / stdSpread\n",
    "\n",
    "    # selects a trading model : 1 or 2\n",
    "    #     :1 (standard model): buy/sell when z-score reach an entry threshold, \n",
    "    #        and exit when z-score reaches exit threshold.\n",
    "    #     :2 (alternative model): buy/sell when z-score reach an entry threshold, \n",
    "    #        and the current z-score level is lower/higher that the previous one.\n",
    "\n",
    "    if strategy == 1:\n",
    "    # code below (only for model == 1) borrowed from (https://www.pythonforfinance.net/)\n",
    "        dataframe['long_entry'] = ((dataframe.zScore < - entryZscore) & ( dataframe.zScore.shift(1) > - entryZscore)) \n",
    "        dataframe['long_exit'] = ((dataframe.zScore > - exitZscore) & (dataframe.zScore.shift(1) < - exitZscore))  \n",
    "        dataframe.loc[dataframe['long_entry'],'pos_long'] = 1 \n",
    "        dataframe.loc[dataframe['long_exit'],'pos_long'] = 0 \n",
    "        dataframe['pos_long'][0] = 0 \n",
    "        dataframe['pos_long'] = dataframe['pos_long'].fillna(method='pad') \n",
    "\n",
    "        #calculate when portfolio is SHORT\n",
    "        dataframe['short_entry'] = ((dataframe.zScore > entryZscore) & ( dataframe.zScore.shift(1) < entryZscore))\n",
    "        dataframe['short_exit'] = ((dataframe.zScore < exitZscore) & (dataframe.zScore.shift(1) > exitZscore))\n",
    "        dataframe.loc[dataframe['short_entry'],'pos_short'] = -1\n",
    "        dataframe.loc[dataframe['short_exit'],'pos_short'] = 0\n",
    "        dataframe['pos_short'][0] = 0\n",
    "        dataframe['pos_short'] = dataframe['pos_short'].fillna(method='pad')\n",
    "    \n",
    "    if strategy == 2:\n",
    "        dataframe['long_entry'] = ((dataframe.zScore < -entryZscore) & ( dataframe.zScore < dataframe.zScore.shift(1))) \n",
    "        dataframe.loc[dataframe['long_entry'],'pos_long'] = 1 \n",
    "        dataframe['pos_long'] = dataframe['pos_long'].fillna(0) \n",
    "        dataframe['long_exit'] = ((dataframe['pos_long'] == 0) & ( dataframe['pos_long'].shift(1) == 1))\n",
    "        dataframe['short_entry'] = ((dataframe.zScore > entryZscore) & ( dataframe.zScore > dataframe.zScore.shift(1)))\n",
    "        dataframe.loc[dataframe['short_entry'],'pos_short'] = -1\n",
    "        dataframe['pos_short'] = dataframe['pos_short'].fillna(0)\n",
    "        dataframe['short_exit'] = ((dataframe['pos_short'] == 0) & ( dataframe['pos_short'].shift(1) == -1)) \n",
    "    \n",
    "    # combine longs/shorts and remove Look ahead bias by lagging the signal\n",
    "    dataframe['position'] = dataframe['pos_long'].shift(1) + dataframe['pos_short'].shift(1)\n",
    "\n",
    "    #########################################\n",
    "    # Overide entry/exit columns with entry/exit data \n",
    "    dataframe['long_entry'] = ((dataframe.pos_long.shift(1) == 1) & ((dataframe.position - dataframe.position.shift(1)) == 1)) * 1\n",
    "    dataframe['long_exit'] = ((dataframe.long_exit == True) & (dataframe.position == 1)) * 1\n",
    "    dataframe['short_entry'] = ((dataframe.pos_short.shift(1) == -1)  & ((dataframe.position - dataframe.position.shift(1)) == -1)) * 1\n",
    "    dataframe['short_exit'] = ((dataframe.short_exit == True) & (dataframe.position == -1)) * 1\n",
    "\n",
    "    # calculates adjusted spread using using current prices and hedge ratio from previous bar (avoiding look-ahead bias)\n",
    "    dataframe['test_spread_adj'] = dataframe.iloc[:, 0] + (dataframe['hr'].shift(1) * dataframe.iloc[:, 1])\n",
    "    \n",
    "    dataframe['pct_ret'] = ((dataframe['test_spread_adj'] - dataframe['test_spread'].shift(1)) / \n",
    "                        (dataframe.iloc[:, 0].shift(1) + (abs(dataframe['hr'].shift(1)) * dataframe.iloc[:, 1].shift(1))))\n",
    "\n",
    "    # calculates actual return for a day according to your position\n",
    "    dataframe['port_ret'] = dataframe['position'] * dataframe['pct_ret'] \n",
    "    dataframe['port_ret'].fillna(0.0, inplace=True)\n",
    "\n",
    "    # trading fees (set here as 0.1%:  slippage + transaction fees, for example you pay 1 USD per 1,000 value of trade)\n",
    "    tr_costs = 0.001\n",
    "    dataframe['tr_cost_paid'] = (dataframe.long_entry | dataframe.long_exit | dataframe.short_entry | dataframe.short_exit)\n",
    "    dataframe['port_ret_net'] = dataframe['port_ret'] - ( tr_costs * dataframe['tr_cost_paid'])\n",
    "\n",
    "    # culmulative porfolio return gross and net\n",
    "    dataframe['cum_port_ret_net'] = (dataframe['port_ret_net'] + 1.0).cumprod()\n",
    "    \n",
    "    # calculates Sharpe Ratio\n",
    "    try:\n",
    "        annualised_sharpe_net = np.sqrt(252) * dataframe['port_ret_net'].mean() / dataframe['port_ret_net'].std()\n",
    "    except ZeroDivisionError:\n",
    "        annualised_sharpe_net = 0.0\n",
    "    # calculates CAGR   \n",
    "    end = dataframe.cum_port_ret_net.iloc[-1]\n",
    "    start = dataframe.cum_port_ret_net.iloc[0]\n",
    "    days = len(dataframe.cum_port_ret_net)\n",
    "    comp_ann_return_net = ((end / start) ** (252/days))  - 1.0  \n",
    "    \n",
    "    # calculates number of days the pair is 'in the market'\n",
    "    num_days_in_the_market = len(dataframe.query(\"position == 1 or position  == -1\")['port_ret'])\n",
    "    \n",
    "    # calculate sum of long and short entries\n",
    "    num_trades_long = dataframe.query('long_entry == True')['long_entry'].sum()\n",
    "    num_trades_short = dataframe.query('short_entry == True')['short_entry'].sum()\n",
    "    \n",
    "    # calculates total trading costs paid\n",
    "    approx_tr_costs = (num_trades_long + num_trades_short) * tr_costs\n",
    "    #pd.set_option('display.max_rows', 500)\n",
    "    \n",
    "    dataframe[f'Cum_rets: {sym1} {sym2}'] = dataframe['cum_port_ret_net']\n",
    "    dataframe[f'Zscore: {sym1} {sym2}'] = dataframe['zScore']\n",
    "    \n",
    "    return dataframe[f'Cum_rets: {sym1} {sym2}'], comp_ann_return_net, annualised_sharpe_net , num_days_in_the_market"
   ]
  },
  {
   "cell_type": "markdown",
   "metadata": {},
   "source": [
    "In this section we want to actually execute the backtest function and print the performance metrics for each pair .\n",
    "Please note, that the performance metrics are presented net of fees. We assume that total trading fees per trade equals 0.1%."
   ]
  },
  {
   "cell_type": "code",
   "execution_count": 43,
   "metadata": {},
   "outputs": [
    {
     "name": "stdout",
     "output_type": "stream",
     "text": [
      "Bactest for period: 2018-09-19 - 2020-06-05\n",
      "Net perfromance statistics (after transaction costs) for total number of pairs: 18\n",
      " The pair AAPL.US-HD.US-> CAGR: 0.03781852315122691, Sharpe: 0.5146799925559724, Number of days in trade: 123\n",
      " The pair AAPL.US-NKE.US-> CAGR: -0.012711650216077897, Sharpe: -0.12145192179952359, Number of days in trade: 146\n",
      " The pair AAPL.US-PFE.US-> CAGR: -0.012166525936164962, Sharpe: -0.09715403632640138, Number of days in trade: 121\n",
      " The pair AAPL.US-VZ.US-> CAGR: 0.04518939031827274, Sharpe: 0.5443703816913674, Number of days in trade: 130\n",
      " The pair AXP.US-VZ.US-> CAGR: 0.14491199034262015, Sharpe: 1.176543646840148, Number of days in trade: 137\n",
      " The pair CVX.US-MCD.US-> CAGR: -0.01615579213890117, Sharpe: -0.1647466931533826, Number of days in trade: 143\n",
      " The pair DIS.US-XOM.US-> CAGR: 0.010428940385788898, Sharpe: 0.15238676100206142, Number of days in trade: 151\n",
      " The pair HD.US-VZ.US-> CAGR: -0.15537417055246938, Sharpe: -1.4964988290246866, Number of days in trade: 187\n",
      " The pair JNJ.US-KO.US-> CAGR: -0.0028724791686668416, Sharpe: -0.0033494886158318775, Number of days in trade: 128\n",
      " The pair JNJ.US-XOM.US-> CAGR: -0.05998288772411542, Sharpe: -0.6805318841364719, Number of days in trade: 105\n",
      " The pair KO.US-XOM.US-> CAGR: -0.01995404799175049, Sharpe: -0.18341915218127758, Number of days in trade: 137\n",
      " The pair MCD.US-VZ.US-> CAGR: -0.016174999054769268, Sharpe: -0.09586565266784867, Number of days in trade: 99\n",
      " The pair MCD.US-XOM.US-> CAGR: -0.04770430980593898, Sharpe: -0.5429289970207751, Number of days in trade: 115\n",
      " The pair MSFT.US-UNH.US-> CAGR: -0.040020115784400234, Sharpe: -0.41693667863078826, Number of days in trade: 134\n",
      " The pair PFE.US-VZ.US-> CAGR: -0.052560998552868776, Sharpe: -0.8534069977086649, Number of days in trade: 126\n",
      " The pair RTX.US-VZ.US-> CAGR: -0.20401007072394506, Sharpe: -1.7232389140507698, Number of days in trade: 176\n",
      " The pair UNH.US-V.US-> CAGR: -0.0940597020829419, Sharpe: -0.99379909374216, Number of days in trade: 129\n",
      " The pair VZ.US-WMT.US-> CAGR: 0.005926225169733845, Sharpe: 0.13234873845966566, Number of days in trade: 82\n"
     ]
    }
   ],
   "source": [
    "# PERFORMS BACKTEST for the whole portfolio of pairs\n",
    "all_cum_returns = []\n",
    "print(f'Bactest for period: {df[train_sample:].index[0]} - {df[train_sample:].index[-1]}')\n",
    "print(f'Net perfromance statistics (after transaction costs) for total number of pairs: {len(coint_pairs)}' )\n",
    "\n",
    "for pair in coint_pairs:\n",
    "    cum_returns, CAGR, sharpe, num_days_in_market = backtest(df[train_sample:], pair[0],pair[1], strategy = 1, \n",
    "                                                             roll_beta_window = 20, zscore_window = 20,\n",
    "                                                             entryZscore = 2.0, exitZscore = 0.5)\n",
    "    all_cum_returns.append(cum_returns)\n",
    "    print(f' The pair {pair[0]}-{pair[1]}-> CAGR: {CAGR}, Sharpe: {sharpe}, Number of days in trade: {num_days_in_market}')\n",
    "    \n",
    "    # prints equity curve of each pair (for too many pairs the legend does not fit to the image)\n",
    "#     cum_returns.plot(figsize=(22,14),legend=True)"
   ]
  },
  {
   "cell_type": "markdown",
   "metadata": {},
   "source": [
    "In this section we calculate performance metrics for the whole portfolio of pairs and plot equity curve.\n",
    "Please note, that the performance metrics are presented net of fees. We assume that total trading fees per trade equals 0.1%."
   ]
  },
  {
   "cell_type": "code",
   "execution_count": 44,
   "metadata": {
    "code_folding": []
   },
   "outputs": [
    {
     "name": "stdout",
     "output_type": "stream",
     "text": [
      "Portfolio of pairs performance:\n",
      "CAGR: -0.0252, Sharpe Ratio: -0.76\n"
     ]
    },
    {
     "data": {
      "image/png": "[encoded data removed]",
      "text/plain": [
       "<Figure size 1296x864 with 1 Axes>"
      ]
     },
     "metadata": {},
     "output_type": "display_data"
    }
   ],
   "source": [
    "# PLOTS PORTFOLIO EQUITY CURVE\n",
    "total_returns = 0\n",
    "for equity_curve in all_cum_returns:\n",
    "    total_returns += equity_curve \n",
    "total_returns = total_returns/len(all_cum_returns)\n",
    "total_returns.plot(style = 'b--', figsize=(18,12))\n",
    "\n",
    "total_returns_pct_chg = total_returns.pct_change()\n",
    "total_returns_pct_chg\n",
    "\n",
    "try:\n",
    "    portfolio_sharpe_net = np.sqrt(252) * total_returns_pct_chg.mean() / total_returns_pct_chg.std()\n",
    "except ZeroDivisionError:\n",
    "    portfolio_sharpe_net = 0.0\n",
    "\n",
    "end = total_returns.iloc[-1]\n",
    "start = total_returns.iloc[0]\n",
    "days = len(total_returns)\n",
    "portfolio_cagr_net = ((end / start) ** (252/days))  - 1.0  \n",
    "\n",
    "print(f'Portfolio of pairs performance:')\n",
    "print(f'CAGR: {round(portfolio_cagr_net,4)}, Sharpe Ratio: {round(portfolio_sharpe_net,2)}')"
   ]
  },
  {
   "cell_type": "markdown",
   "metadata": {},
   "source": [
    "The performance does not seem appealing... well this is well known strategy so cannot expect any 'magic'. However, at least we know that during last 6 months this strategy did not work.\n",
    "\n",
    "It does not mean that the strategy will not work in the future. The market sentiment may change. During the last 2-3 years the market favours stocks with strong momentum and appealing growth of fundamentals. In this environment mean reversion strategies should be less profitable.\n",
    "\n",
    "However, if you find a universe that generate good performance, you may like to check the current zScore for the selected pairs. \n",
    "\n",
    "The piece of code below checks the current (in real time) zScore for the selected pairs in part 2. \n",
    "\n",
    "We used beautiful soup library to fetch current price and then we append one row to existing dataframe. Finally, the script prints the zScore and hedge ratio for the pairs that have zScore above threshold in absolute terms."
   ]
  },
  {
   "cell_type": "markdown",
   "metadata": {},
   "source": [
    "### Part 4: Checking current zScore of cointegrated pairs"
   ]
  },
  {
   "cell_type": "code",
   "execution_count": 45,
   "metadata": {
    "code_folding": []
   },
   "outputs": [
    {
     "name": "stdout",
     "output_type": "stream",
     "text": [
      "Getting data for the pairs with current Z-score above 1.5....\n",
      "\n",
      "1: Buy : 1.00 * |DIS.US| Sell: -2.42476  * |XOM.US| Z-Score: -2.04\n",
      "2: Buy : 1.00 * |JNJ.US| Sell: -2.90738  * |XOM.US| Z-Score: -1.93\n",
      "3: Buy : 1.00 * |MCD.US| Sell: -3.83153  * |XOM.US| Z-Score: -1.91\n",
      "4: Buy : 1.00 * |KO.US| Sell: -0.95305  * |XOM.US| Z-Score: -1.85\n"
     ]
    }
   ],
   "source": [
    "def currentPortfolio(df, sym1, sym2, roll_beta_window = 5, zscore_window = 25 ):\n",
    "    \n",
    "    y = df[sym1].iloc[-(2*(roll_beta_window+zscore_window)):]\n",
    "    x = df[sym2].iloc[-(2*(roll_beta_window+zscore_window)):]\n",
    "\n",
    "    # Scrapes the current (real-time) price of the asset from yahoo.com\n",
    "    def getCurrentPrice(sym):\n",
    "        source = requests.get(f'https://finance.yahoo.com/quote/{sym}')   # https://finance.yahoo.com/quote/VTI?p=VTI\n",
    "        soup = BeautifulSoup(source.content, 'lxml')\n",
    "        price = soup.select_one('.Trsdu\\(0\\.3s\\)').text\n",
    "        price = price = float(price.replace(',', \"\"))\n",
    "#       time.sleep(1)\n",
    "        return(price)\n",
    "    \n",
    "    # modify ticker depending on the historcital data source\n",
    "    if sym1[-3:] == '.US' or sym2[-3:] == '.US'  :\n",
    "        sym1 = (sym1.split('.')[0])\n",
    "        sym2 = (sym2.split('.')[0])\n",
    "    \n",
    "    # selects a small part of the existing dataframe needed to compute current zScore \n",
    "    s4 = pd.Series([getCurrentPrice(sym1)], index=[date.today()])\n",
    "    s5 = pd.Series([getCurrentPrice(sym2)], index=[date.today()])\n",
    "    \n",
    "    # appends the current price to existing dataframe\n",
    "    y = y.append(s4) \n",
    "    x = x.append(s5) \n",
    "\n",
    "    # finds intersection between two series and make sure DataFrames are the same length\n",
    "    intersect = y.index.intersection(x.index)\n",
    "    y = y.loc[intersect]\n",
    "    x = x.loc[intersect]\n",
    "\n",
    "    # creates a dataframe using adj. close prices from both series\n",
    "    dataframe = pd.DataFrame(index=y.index).dropna()\n",
    "    dataframe['%s_close' % sym1.lower()] = y\n",
    "    dataframe['%s_close' % sym2.lower()] = x   \n",
    "    \n",
    "    # calculates rolling hedge ratio and spread and zScore\n",
    "    roll_fit = RollingOLS(y, x, window=roll_beta_window).fit()\n",
    "    dataframe['hr'] = -roll_fit.params\n",
    "    dataframe['test_spread'] = y + (x * dataframe.hr)\n",
    "    meanSpread = dataframe['test_spread'].rolling(window=int(zscore_window)).mean()\n",
    "    stdSpread = dataframe['test_spread'].rolling(window=int(zscore_window)).std()\n",
    "    dataframe['zScore'] = (dataframe['test_spread']- meanSpread) / stdSpread\n",
    "\n",
    "    return dataframe['zScore'][-1], dataframe['hr'][-1] \n",
    "\n",
    "# ------------------------------------------------#\n",
    "\n",
    "#CHECKS CURRENT ZSCORE for ALL cointegrated pairs\n",
    "zscore_treshold = 1.5\n",
    "zscores_list = []\n",
    "print(f'Getting data for the pairs with current Z-score above {zscore_treshold}....\\n')\n",
    "for c, pair in enumerate(coint_pairs):\n",
    "    zscore_now, hedge_ratio_now = currentPortfolio(df[train_sample:], pair[0], pair[1], roll_beta_window = 5, zscore_window = 25)\n",
    "    if abs(zscore_now) > abs(zscore_treshold):\n",
    "        zscores_list.append((pair[0], pair[1], zscore_now, hedge_ratio_now))\n",
    "\n",
    "if len(zscores_list) == 0:\n",
    "    print('...')\n",
    "    print(f'No pairs available to trade, i.e. no pairs with zscore > abs({zscore_treshold})')\n",
    "else:    \n",
    "    zscores_list_sorted = sorted(zscores_list, key=lambda x: abs(x[2]),reverse = True) \n",
    "    for c, pair in enumerate(zscores_list_sorted,1):\n",
    "        if pair[2] < 0:\n",
    "            print(f'{c}: Buy : 1.00 * |{pair[0]: <4}| Sell: {round(pair[3],5)}  * |{pair[1]: <4}| Z-Score: {round(pair[2],2)}')\n",
    "        else:\n",
    "            print(f'{c}: Sell: 1.00 * |{pair[0]: <4}| Buy:  {round(pair[3],5)}  * |{pair[1]: <4}| Z-Score:  {round(pair[2],2)}') "
   ]
  },
  {
   "cell_type": "markdown",
   "metadata": {},
   "source": [
    "Although, the strategy does not yield satisfactory results, we may like to check if there is a set of parameters that makes our strategy profitable.\n",
    "\n",
    "In real trading, it is not good idea to optimise parameters, however we only learn how to code in Python....\n",
    "The script below is not very fancy. It simply iterates through the range of parameters we set.\n",
    "\n",
    "There are two scripts, the iterates through different hedge ratio window, the other iterates through different zScore window. You may easily modify this script to iterates also through different values of entryZscore and exitScore - possibly as a good programming task."
   ]
  },
  {
   "cell_type": "markdown",
   "metadata": {},
   "source": [
    "### Part 5: Parameters optimisation"
   ]
  },
  {
   "cell_type": "code",
   "execution_count": 46,
   "metadata": {
    "code_folding": []
   },
   "outputs": [
    {
     "name": "stdout",
     "output_type": "stream",
     "text": [
      "1: Hedge ratio window: 10, zScore window: 20, CAGR: -0.004, Sharpe Ratio: -0.15\n",
      "2: Hedge ratio window: 25, zScore window: 20, CAGR: -0.018, Sharpe Ratio: -0.48\n",
      "3: Hedge ratio window: 15, zScore window: 20, CAGR: -0.016, Sharpe Ratio: -0.56\n",
      "4: Hedge ratio window: 30, zScore window: 20, CAGR: -0.024, Sharpe Ratio: -0.64\n",
      "5: Hedge ratio window: 35, zScore window: 20, CAGR: -0.024, Sharpe Ratio: -0.67\n",
      "6: Hedge ratio window: 90, zScore window: 20, CAGR: -0.029, Sharpe Ratio: -0.74\n",
      "7: Hedge ratio window: 20, zScore window: 20, CAGR: -0.025, Sharpe Ratio: -0.76\n",
      "8: Hedge ratio window: 95, zScore window: 20, CAGR: -0.03, Sharpe Ratio: -0.8\n",
      "9: Hedge ratio window: 40, zScore window: 20, CAGR: -0.031, Sharpe Ratio: -0.85\n",
      "10: Hedge ratio window: 85, zScore window: 20, CAGR: -0.037, Sharpe Ratio: -0.97\n",
      "11: Hedge ratio window: 75, zScore window: 20, CAGR: -0.04, Sharpe Ratio: -1.03\n",
      "12: Hedge ratio window: 80, zScore window: 20, CAGR: -0.039, Sharpe Ratio: -1.04\n",
      "13: Hedge ratio window: 70, zScore window: 20, CAGR: -0.048, Sharpe Ratio: -1.22\n",
      "14: Hedge ratio window: 45, zScore window: 20, CAGR: -0.048, Sharpe Ratio: -1.33\n",
      "15: Hedge ratio window: 50, zScore window: 20, CAGR: -0.051, Sharpe Ratio: -1.41\n",
      "16: Hedge ratio window: 65, zScore window: 20, CAGR: -0.056, Sharpe Ratio: -1.44\n",
      "17: Hedge ratio window: 55, zScore window: 20, CAGR: -0.056, Sharpe Ratio: -1.49\n",
      "18: Hedge ratio window: 60, zScore window: 20, CAGR: -0.06, Sharpe Ratio: -1.55\n"
     ]
    }
   ],
   "source": [
    "# HELPER SCRIPT: Roll_beta_window optimisation\n",
    "\n",
    "all_cagrs_and_sharpes = []\n",
    "zscore_window = 20\n",
    "entryZscore = 2.0\n",
    "exitZscore = 0.5\n",
    "\n",
    "# calculates portfolio Sharpe Ratio and CAGR  for each Roll_beta_window within the range\n",
    "for x in range(10, 100, 5):\n",
    "    all_cum_returns = []\n",
    "    \n",
    "    for pair in coint_pairs:\n",
    "        cum_returns, CAGR, sharpe, num_days_in_the_market = backtest(df[train_sample:], pair[0],pair[1], strategy = 1, \n",
    "                                                                     roll_beta_window = x, zscore_window = zscore_window,\n",
    "                                                                    entryZscore = entryZscore, exitZscore = exitZscore)\n",
    "        all_cum_returns.append(cum_returns)\n",
    "        \n",
    "    total_returns = 0\n",
    "    for equity_curve in all_cum_returns:\n",
    "        total_returns += equity_curve \n",
    "    total_returns = total_returns/len(all_cum_returns)\n",
    "\n",
    "    total_returns_pct_chg = total_returns.pct_change()\n",
    "\n",
    "    try:\n",
    "        portfolio_sharpe_net = np.sqrt(252) * total_returns_pct_chg.mean() / total_returns_pct_chg.std()\n",
    "    except ZeroDivisionError:\n",
    "        portfolio_sharpe_net = 0.0\n",
    "\n",
    "    end = total_returns.iloc[-1]\n",
    "    start = total_returns.iloc[0]\n",
    "    days = len(total_returns)\n",
    "    portfolio_cagr_net = ((end / start) ** (252/days))  - 1.0\n",
    "    all_cagrs_and_sharpes.append((x, portfolio_cagr_net, portfolio_sharpe_net))\n",
    "    \n",
    "# sorts and prints ranked results based on Share Ratio\n",
    "all_cagrs_and_sharpes = sorted(all_cagrs_and_sharpes, key=lambda x: x[2],reverse = True) \n",
    "\n",
    "for c, pair in enumerate(all_cagrs_and_sharpes, 1):\n",
    "        print(f'{c}: Hedge ratio window: {pair[0]}, zScore window: {zscore_window}, CAGR: {round(pair[1],3)}, Sharpe Ratio: {round(pair[2],2)}')  "
   ]
  },
  {
   "cell_type": "markdown",
   "metadata": {},
   "source": [
    "It turned out that none values of hedge ratio window yields positive Shape Ratio ... so let’s set hedge ratio at 10 (the best result) and iterate through different values of zScore."
   ]
  },
  {
   "cell_type": "code",
   "execution_count": 47,
   "metadata": {
    "code_folding": []
   },
   "outputs": [
    {
     "name": "stdout",
     "output_type": "stream",
     "text": [
      "1: Hedge ratio window: 10, zScore window: 95, CAGR: 0.007, Sharpe Ratio: 0.22\n",
      "2: Hedge ratio window: 10, zScore window: 90, CAGR: 0.006, Sharpe Ratio: 0.2\n",
      "3: Hedge ratio window: 10, zScore window: 85, CAGR: 0.002, Sharpe Ratio: 0.08\n",
      "4: Hedge ratio window: 10, zScore window: 15, CAGR: 0.001, Sharpe Ratio: 0.04\n",
      "5: Hedge ratio window: 10, zScore window: 65, CAGR: -0.0, Sharpe Ratio: 0.01\n",
      "6: Hedge ratio window: 10, zScore window: 80, CAGR: -0.003, Sharpe Ratio: -0.08\n",
      "7: Hedge ratio window: 10, zScore window: 20, CAGR: -0.004, Sharpe Ratio: -0.15\n",
      "8: Hedge ratio window: 10, zScore window: 70, CAGR: -0.008, Sharpe Ratio: -0.23\n",
      "9: Hedge ratio window: 10, zScore window: 75, CAGR: -0.009, Sharpe Ratio: -0.25\n",
      "10: Hedge ratio window: 10, zScore window: 30, CAGR: -0.008, Sharpe Ratio: -0.27\n",
      "11: Hedge ratio window: 10, zScore window: 60, CAGR: -0.011, Sharpe Ratio: -0.34\n",
      "12: Hedge ratio window: 10, zScore window: 35, CAGR: -0.01, Sharpe Ratio: -0.35\n",
      "13: Hedge ratio window: 10, zScore window: 10, CAGR: -0.008, Sharpe Ratio: -0.36\n",
      "14: Hedge ratio window: 10, zScore window: 25, CAGR: -0.01, Sharpe Ratio: -0.4\n",
      "15: Hedge ratio window: 10, zScore window: 55, CAGR: -0.015, Sharpe Ratio: -0.49\n",
      "16: Hedge ratio window: 10, zScore window: 50, CAGR: -0.016, Sharpe Ratio: -0.54\n",
      "17: Hedge ratio window: 10, zScore window: 40, CAGR: -0.017, Sharpe Ratio: -0.6\n",
      "18: Hedge ratio window: 10, zScore window: 45, CAGR: -0.018, Sharpe Ratio: -0.66\n"
     ]
    }
   ],
   "source": [
    "# HELPER SCRIPT: Z-score_window optimisation\n",
    "\n",
    "all_cagrs_and_sharpes_zscore_optim = []\n",
    "total_returns_all = []\n",
    "roll_beta_window = 10\n",
    "entryZscore = 2.0\n",
    "exitZscore = 0.5\n",
    "\n",
    "# calculates portfolio Sharpe Ratio and CAGR  for each zScore window within the range\n",
    "for x in range(10, 100, 5):\n",
    "    all_cum_returns = []\n",
    "    \n",
    "    for pair in coint_pairs:\n",
    "        cum_returns, CAGR, sharpe, num_days_in_the_market = backtest(df[train_sample:], pair[0],pair[1], strategy = 1, \n",
    "                                                                     roll_beta_window = roll_beta_window, zscore_window = x,\n",
    "                                                                    entryZscore = entryZscore, exitZscore = exitZscore)\n",
    "        all_cum_returns.append(cum_returns)\n",
    "\n",
    "    total_returns = 0\n",
    "    for equity_curve in all_cum_returns:\n",
    "        total_returns += equity_curve    \n",
    "    total_returns = total_returns/len(all_cum_returns)\n",
    "    total_returns_all.append((x, total_returns))\n",
    "    total_returns_pct_chg = total_returns.pct_change()\n",
    "\n",
    "    try:\n",
    "        portfolio_sharpe_net = np.sqrt(252) * total_returns_pct_chg.mean() / total_returns_pct_chg.std()\n",
    "    except ZeroDivisionError:\n",
    "        portfolio_sharpe_net = 0.0\n",
    "\n",
    "    end = total_returns.iloc[-1]\n",
    "    start = total_returns.iloc[0]\n",
    "    days = len(total_returns)\n",
    "    portfolio_cagr_net = ((end / start) ** (252/days))  - 1.0\n",
    "    all_cagrs_and_sharpes_zscore_optim.append((x, portfolio_cagr_net, portfolio_sharpe_net))\n",
    "\n",
    "# sorts and prints ranked results based on Share Ratio\n",
    "all_cagrs_and_sharpes_zscore_optim = sorted(all_cagrs_and_sharpes_zscore_optim, key=lambda x: x[2],reverse = True) \n",
    "for c, pair in enumerate(all_cagrs_and_sharpes_zscore_optim, 1):\n",
    "        print(f'{c}: Hedge ratio window: {roll_beta_window}, zScore window: {pair[0]}, CAGR: {round(pair[1],3)}, Sharpe Ratio: {round(pair[2],2)}')  "
   ]
  },
  {
   "cell_type": "markdown",
   "metadata": {},
   "source": [
    "All right, finally we see profit... after optimisation we can state that possible successful set of parameters was : Hedge ratio window: 10 and zScore window: 95. This strategy generated 0.7% of annualised return and Sharpe of 0.22\n",
    "\n",
    "Finally, lets plot the selected optimised strategy here below."
   ]
  },
  {
   "cell_type": "code",
   "execution_count": 48,
   "metadata": {
    "code_folding": []
   },
   "outputs": [
    {
     "data": {
      "text/plain": [
       "<matplotlib.axes._subplots.AxesSubplot at 0x216d6613820>"
      ]
     },
     "execution_count": 48,
     "metadata": {},
     "output_type": "execute_result"
    },
    {
     "data": {
      "image/png": "[encoded data removed]",
      "text/plain": [
       "<Figure size 1584x1008 with 1 Axes>"
      ]
     },
     "metadata": {},
     "output_type": "display_data"
    }
   ],
   "source": [
    "# PLOT EQUITY CURVE OF THE BEST MODEL : Hedge ratio window: 15, zScore window: 10, CAGR: 0.03, Sharpe Ratio: 1.08\n",
    "\n",
    "# plots equity curve                                                             \n",
    "total_returns_all[17][1].plot(figsize=(22,14),legend=False)"
   ]
  },
  {
   "cell_type": "markdown",
   "metadata": {},
   "source": [
    "### CONCLUSION AND DISCLAIMER\n",
    "\n",
    "This script presents fairly simple but complete and basic framework for Selection and Backtesting of a Portfolio of Pairs Based on Cointegration in Python. The results probably do not encourage to use this model into live trading, however the purpose of creating this notebook is purely educational. There are multiple ways how this basic framework may be extended into more unique and complex model.\n",
    "\n",
    "If you have any questions, please send me email: p.arendarski...gmail.com...\n",
    "\n",
    "DISCLAIMER:\n",
    "This piece of code  is presented here is must be used solely for education perposes and can not be used under ciscumstances as a decision making tool in real trading."
   ]
  }
 ],
 "metadata": {
  "kernelspec": {
   "display_name": "Python 3",
   "language": "python",
   "name": "python3"
  },
  "language_info": {
   "codemirror_mode": {
    "name": "ipython",
    "version": 3
   },
   "file_extension": ".py",
   "mimetype": "text/x-python",
   "name": "python",
   "nbconvert_exporter": "python",
   "pygments_lexer": "ipython3",
   "version": "3.8.1"
  }
 },
 "nbformat": 4,
 "nbformat_minor": 4
}
